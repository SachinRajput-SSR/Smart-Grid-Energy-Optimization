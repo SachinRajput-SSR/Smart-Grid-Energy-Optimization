# Week 1: Data Loading, Cleaning, Train/Test Split, and Initial Model

import pandas as pd
from sklearn.model_selection import train_test_split
from sklearn.ensemble import RandomForestClassifier  # Using Random Forest as example
from sklearn.metrics import accuracy_score, classification_report

# 1. Load Dataset from GitHub folder (data/raw)
file_path = 'https://raw.githubusercontent.com/yourusername/Smart-Grid-Energy-Optimization/main/data/raw/smart_grid_stability.csv'
data = pd.read_csv(file_path)

# 2. Check basic info and missing values
print(data.info())
print(data.isnull().sum())

# 3. Drop duplicates
data = data.drop_duplicates()

# 4. Define features and target
X = data.drop('stabf', axis=1)
y = data['stabf']

# 5. Split data into train and test
X_train, X_test, y_train, y_test = train
