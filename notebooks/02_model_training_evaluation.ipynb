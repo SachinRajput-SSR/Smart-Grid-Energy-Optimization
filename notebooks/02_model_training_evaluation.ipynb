{
  "nbformat": 4,
  "nbformat_minor": 0,
  "metadata": {
    "colab": {
      "provenance": [],
      "authorship_tag": "ABX9TyPyPmEigge6QTIDmFhG6XO1",
      "include_colab_link": true
    },
    "kernelspec": {
      "name": "python3",
      "display_name": "Python 3"
    },
    "language_info": {
      "name": "python"
    }
  },
  "cells": [
    {
      "cell_type": "markdown",
      "metadata": {
        "id": "view-in-github",
        "colab_type": "text"
      },
      "source": [
        "<a href=\"https://colab.research.google.com/github/SachinRajput-SSR/Smart-Grid-Energy-Optimization/blob/main/notebooks/02_model_training_evaluation.ipynb\" target=\"_parent\"><img src=\"https://colab.research.google.com/assets/colab-badge.svg\" alt=\"Open In Colab\"/></a>"
      ]
    },
    {
      "cell_type": "code",
      "execution_count": 1,
      "metadata": {
        "id": "xuaCWoASwXCl"
      },
      "outputs": [],
      "source": [
        "import pandas as pd\n",
        "import os\n",
        "import numpy as np\n",
        "from sklearn.model_selection import train_test_split, GridSearchCV\n",
        "from sklearn.ensemble import RandomForestClassifier\n",
        "from xgboost import XGBClassifier\n",
        "from sklearn.metrics import classification_report, roc_auc_score, confusion_matrix\n",
        "import matplotlib.pyplot as plt"
      ]
    },
    {
      "cell_type": "code",
      "source": [
        "# ----- Week 1: Data Loading and Preparation -----"
      ],
      "metadata": {
        "id": "HlJt8Z-WwlTn"
      },
      "execution_count": 2,
      "outputs": []
    },
    {
      "cell_type": "code",
      "source": [
        "# 1. Load Dataset from GitHub folder (data/raw)\n",
        "file_path = 'https://raw.githubusercontent.com/SachinRajput-SSR/Smart-Grid-Energy-Optimization/c213e8e7cd25bd5015b9760406144f04fb47b81f/data/raw/smart_grid_stability_augmented.csv'\n",
        "data = pd.read_csv(file_path)"
      ],
      "metadata": {
        "id": "AaL8nJzYw3Y4"
      },
      "execution_count": 3,
      "outputs": []
    },
    {
      "cell_type": "code",
      "source": [
        "# Basic exploration\n",
        "print(\"Dataset Overview:\")\n",
        "print(data.info())\n",
        "print(data['stabf'].value_counts())"
      ],
      "metadata": {
        "colab": {
          "base_uri": "https://localhost:8080/"
        },
        "collapsed": true,
        "id": "jo8Hk5iCw3Mi",
        "outputId": "37141c89-7708-4bc9-b55c-6a3f8aaeedcf"
      },
      "execution_count": 4,
      "outputs": [
        {
          "output_type": "stream",
          "name": "stdout",
          "text": [
            "Dataset Overview:\n",
            "<class 'pandas.core.frame.DataFrame'>\n",
            "RangeIndex: 60000 entries, 0 to 59999\n",
            "Data columns (total 14 columns):\n",
            " #   Column  Non-Null Count  Dtype  \n",
            "---  ------  --------------  -----  \n",
            " 0   tau1    60000 non-null  float64\n",
            " 1   tau2    60000 non-null  float64\n",
            " 2   tau3    60000 non-null  float64\n",
            " 3   tau4    60000 non-null  float64\n",
            " 4   p1      60000 non-null  float64\n",
            " 5   p2      60000 non-null  float64\n",
            " 6   p3      60000 non-null  float64\n",
            " 7   p4      60000 non-null  float64\n",
            " 8   g1      60000 non-null  float64\n",
            " 9   g2      60000 non-null  float64\n",
            " 10  g3      60000 non-null  float64\n",
            " 11  g4      60000 non-null  float64\n",
            " 12  stab    60000 non-null  float64\n",
            " 13  stabf   60000 non-null  object \n",
            "dtypes: float64(13), object(1)\n",
            "memory usage: 6.4+ MB\n",
            "None\n",
            "stabf\n",
            "unstable    38280\n",
            "stable      21720\n",
            "Name: count, dtype: int64\n"
          ]
        }
      ]
    },
    {
      "cell_type": "code",
      "source": [
        "# Data cleaning\n",
        "data = data.drop_duplicates()\n",
        "for col in data.select_dtypes(include=[np.number]).columns:\n",
        "    if data[col].isnull().sum() > 0:\n",
        "        data[col].fillna(data[col].median(), inplace=True)"
      ],
      "metadata": {
        "id": "-HE9oix6w3BJ"
      },
      "execution_count": 5,
      "outputs": []
    },
    {
      "cell_type": "code",
      "source": [
        "# Define X and y\n",
        "X = data.drop(columns=['stabf'])\n",
        "y = data['stabf'].map({'stable': 1, 'unstable': 0})"
      ],
      "metadata": {
        "id": "obBzaxcvw22i"
      },
      "execution_count": 6,
      "outputs": []
    },
    {
      "cell_type": "code",
      "source": [
        "# Train-test split\n",
        "X_train, X_test, y_train, y_test = train_test_split(\n",
        "    X, y, test_size=0.2, random_state=42, stratify=y\n",
        ")\n",
        "\n",
        "print(f\"Training data shape: {X_train.shape}, Test data shape: {X_test.shape}\")"
      ],
      "metadata": {
        "colab": {
          "base_uri": "https://localhost:8080/"
        },
        "collapsed": true,
        "id": "KgQwFRcKw2ms",
        "outputId": "4f176b19-a6bc-4e45-ea1e-6898e8113e6a"
      },
      "execution_count": 7,
      "outputs": [
        {
          "output_type": "stream",
          "name": "stdout",
          "text": [
            "Training data shape: (48000, 13), Test data shape: (12000, 13)\n"
          ]
        }
      ]
    },
    {
      "cell_type": "code",
      "source": [
        "# ----- Week 2: Model Training and Initial Evaluation -----"
      ],
      "metadata": {
        "id": "-9jlSlCJxale"
      },
      "execution_count": 8,
      "outputs": []
    },
    {
      "cell_type": "code",
      "source": [
        "# Define models and hyperparameters\n",
        "models = {\n",
        "    'Random Forest': RandomForestClassifier(random_state=42),\n",
        "    'XGBoost': XGBClassifier(eval_metric='logloss', random_state=42)\n",
        "}\n",
        "\n",
        "param_grids = {\n",
        "    'Random Forest': {\n",
        "        'n_estimators': [100, 200],\n",
        "        'max_depth': [None, 10, 20],\n",
        "        'min_samples_split': [2, 5]\n",
        "    },\n",
        "    'XGBoost': {\n",
        "        'learning_rate': [0.1, 0.01],\n",
        "        'max_depth': [3, 5],\n",
        "        'n_estimators': [100, 200]\n",
        "    }\n",
        "}\n",
        "\n",
        "best_models = {}\n",
        "\n",
        "for name, model in models.items():\n",
        "    print(f\"\\nTraining {name} model...\")\n",
        "    grid_search = GridSearchCV(model, param_grids[name], cv=3, scoring='roc_auc', n_jobs=-1)\n",
        "    grid_search.fit(X_train, y_train)\n",
        "\n",
        "    print(f\"Best parameters for {name}: {grid_search.best_params_}\")\n",
        "\n",
        "    y_pred = grid_search.predict(X_test)\n",
        "    y_proba = grid_search.predict_proba(X_test)[:, 1]\n",
        "\n",
        "    print(f\"Classification Report for {name}:\\n{classification_report(y_test, y_pred)}\")\n",
        "    print(f\"ROC-AUC Score for {name}: {roc_auc_score(y_test, y_proba):.4f}\")\n",
        "    print(f\"Confusion Matrix for {name}:\\n{confusion_matrix(y_test, y_pred)}\")\n",
        "\n",
        "    best_models[name] = grid_search.best_estimator_"
      ],
      "metadata": {
        "colab": {
          "base_uri": "https://localhost:8080/"
        },
        "id": "CD5Gn7e6xc4T",
        "outputId": "128cffaa-84f3-483d-bdcd-640cab6d7e0e"
      },
      "execution_count": 9,
      "outputs": [
        {
          "output_type": "stream",
          "name": "stdout",
          "text": [
            "\n",
            "Training Random Forest model...\n",
            "Best parameters for Random Forest: {'max_depth': None, 'min_samples_split': 2, 'n_estimators': 100}\n",
            "Classification Report for Random Forest:\n",
            "              precision    recall  f1-score   support\n",
            "\n",
            "           0       1.00      1.00      1.00      7656\n",
            "           1       1.00      1.00      1.00      4344\n",
            "\n",
            "    accuracy                           1.00     12000\n",
            "   macro avg       1.00      1.00      1.00     12000\n",
            "weighted avg       1.00      1.00      1.00     12000\n",
            "\n",
            "ROC-AUC Score for Random Forest: 1.0000\n",
            "Confusion Matrix for Random Forest:\n",
            "[[7656    0]\n",
            " [   0 4344]]\n",
            "\n",
            "Training XGBoost model...\n",
            "Best parameters for XGBoost: {'learning_rate': 0.1, 'max_depth': 5, 'n_estimators': 100}\n",
            "Classification Report for XGBoost:\n",
            "              precision    recall  f1-score   support\n",
            "\n",
            "           0       1.00      1.00      1.00      7656\n",
            "           1       1.00      1.00      1.00      4344\n",
            "\n",
            "    accuracy                           1.00     12000\n",
            "   macro avg       1.00      1.00      1.00     12000\n",
            "weighted avg       1.00      1.00      1.00     12000\n",
            "\n",
            "ROC-AUC Score for XGBoost: 1.0000\n",
            "Confusion Matrix for XGBoost:\n",
            "[[7656    0]\n",
            " [   0 4344]]\n"
          ]
        }
      ]
    },
    {
      "cell_type": "code",
      "source": [
        "# Feature importance from Random Forest\n",
        "rf = best_models['Random Forest']\n",
        "feat_importances = pd.Series(rf.feature_importances_, index=X_train.columns)\n",
        "feat_importances.nlargest(10).plot(kind='barh')\n",
        "plt.title('Top 10 Feature Importances - Random Forest')\n",
        "plt.show()"
      ],
      "metadata": {
        "colab": {
          "base_uri": "https://localhost:8080/",
          "height": 452
        },
        "id": "P0_rXZSrxck0",
        "outputId": "a3b1c676-b8ed-4f5c-9112-48f3c6cba00e"
      },
      "execution_count": 10,
      "outputs": [
        {
          "output_type": "display_data",
          "data": {
            "text/plain": [
              "<Figure size 640x480 with 1 Axes>"
            ],
            "image/png": "[encoded data removed]"
          },
          "metadata": {}
        }
      ]
    }
  ]
}